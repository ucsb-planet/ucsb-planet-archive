{
 "cells": [
  {
   "cell_type": "code",
   "execution_count": null,
   "id": "653bb6a9-298d-47dd-aa57-92983e3b6359",
   "metadata": {},
   "outputs": [],
   "source": [
    "### Gets list of images that overlap with a given date, \n",
    "### collects relevant metadata, and dumps it all to a csv"
   ]
  },
  {
   "cell_type": "code",
   "execution_count": 2,
   "id": "593ba32d-e723-49c0-ae6d-6bdcdca1c39c",
   "metadata": {},
   "outputs": [],
   "source": [
    "import requests\n",
    "import os\n",
    "import json\n",
    "import pandas as pd\n",
    "import numpy as np\n",
    "import time\n",
    "from requests.auth import HTTPBasicAuth"
   ]
  },
  {
   "cell_type": "code",
   "execution_count": 21,
   "id": "3c2db553-bd27-48a9-812c-cd5563ddaff0",
   "metadata": {},
   "outputs": [],
   "source": [
    "# authentication\n",
    "PLANET_API_KEY = os.getenv('PL_API_KEY')\n",
    "API_URL = \"https://api.planet.com/data/v1\"\n",
    "session = requests.Session()\n",
    "session.auth = (PLANET_API_KEY,'')"
   ]
  },
  {
   "cell_type": "code",
   "execution_count": 22,
   "id": "82129746-30ff-4ddd-ba82-deccd4bb02b7",
   "metadata": {},
   "outputs": [],
   "source": [
    "res = session.get(API_URL)\n"
   ]
  },
  {
   "cell_type": "code",
   "execution_count": 23,
   "id": "16543a4d-9f7c-4106-918e-49087a027ed5",
   "metadata": {},
   "outputs": [
    {
     "data": {
      "text/plain": [
       "200"
      ]
     },
     "execution_count": 23,
     "metadata": {},
     "output_type": "execute_result"
    }
   ],
   "source": [
    "res.status_code\n"
   ]
  },
  {
   "cell_type": "code",
   "execution_count": 24,
   "id": "0ed57310-fb0d-46dc-98fa-e1b47cf968c8",
   "metadata": {},
   "outputs": [
    {
     "name": "stdout",
     "output_type": "stream",
     "text": [
      "../vector_data/UCSB_AOI/ucsb_aoi.geojson\n"
     ]
    }
   ],
   "source": [
    "geojson_path = \"../vector_data/UCSB_AOI/ucsb_aoi.geojson\"\n",
    "print(geojson_path)"
   ]
  },
  {
   "cell_type": "code",
   "execution_count": 25,
   "id": "999fbf54-1720-43cc-ba23-ce4058957a8c",
   "metadata": {},
   "outputs": [],
   "source": [
    "# filter for items the overlap with our chosen geometry\n",
    "with open(geojson_path) as f:\n",
    "    geometry = json.load(f)\n",
    "\n",
    "geometry_filter = {\n",
    "    \"type\": \"GeometryFilter\",\n",
    "    \"field_name\": \"geometry\",\n",
    "    \"config\": {\n",
    "        \"type\": \"Polygon\",\n",
    "        \"coordinates\": geometry['features'][0]['geometry']['coordinates']\n",
    "    }\n",
    "}"
   ]
  },
  {
   "cell_type": "code",
   "execution_count": 27,
   "id": "c2944179-561f-44c7-8540-4e24058d702b",
   "metadata": {},
   "outputs": [],
   "source": [
    "\n",
    "# # filter images acquired in a certain date range\n",
    "# # if a date range filter is added, make sure to add it to \"big_filter\" below\n",
    "# date_range_filter = {\n",
    "#   \"type\": \"DateRangeFilter\",\n",
    "#   \"field_name\": \"acquired\",\n",
    "#   \"config\": {\n",
    "#     \"gte\": \"2015-01-01T00:00:00.000Z\",\n",
    "#     \"lte\": \"2020-01-01T00:00:00.000Z\"\n",
    "#   }\n",
    "# }\n",
    "\n",
    "\n",
    "# filter any images which are more than 50% clouds\n",
    "cloud_cover_filter = {\n",
    "  \"type\": \"RangeFilter\",\n",
    "  \"field_name\": \"cloud_cover\",\n",
    "  \"config\": {\n",
    "    \"lte\": 0.05\n",
    "  }\n",
    "}\n",
    "\n",
    "# filter any images where the orthorectified 4b SR image is not available\n",
    "type_filter = {\n",
    "    \"type\": \"AssetFilter\",\n",
    "    \"config\": [\n",
    "        \"ortho_analytic_4b_sr\"\n",
    "    ]\n",
    "}\n",
    "\n",
    "\n",
    "# mash 'em all together\n",
    "big_filter = {\n",
    "  \"type\": \"AndFilter\",\n",
    "  \"config\": [geometry_filter, type_filter, cloud_cover_filter]\n",
    "}"
   ]
  },
  {
   "cell_type": "code",
   "execution_count": null,
   "id": "f9d9af9f-377d-4b1c-898c-203bb28abb16",
   "metadata": {},
   "outputs": [],
   "source": []
  },
  {
   "cell_type": "code",
   "execution_count": 29,
   "id": "3f5f6558-c533-4783-b37c-054ac7940e7e",
   "metadata": {},
   "outputs": [
    {
     "name": "stdout",
     "output_type": "stream",
     "text": [
      "Searching...\n",
      "400 Bad Request\n",
      "Fetching results...\n"
     ]
    },
    {
     "ename": "NameError",
     "evalue": "name 'search_url' is not defined",
     "output_type": "error",
     "traceback": [
      "\u001b[1;31m---------------------------------------------------------------------------\u001b[0m",
      "\u001b[1;31mNameError\u001b[0m                                 Traceback (most recent call last)",
      "Cell \u001b[1;32mIn[29], line 105\u001b[0m\n\u001b[0;32m    103\u001b[0m \u001b[38;5;66;03m# let's go!\u001b[39;00m\n\u001b[0;32m    104\u001b[0m fetch_page\u001b[38;5;241m.\u001b[39mcounter \u001b[38;5;241m=\u001b[39m \u001b[38;5;241m0\u001b[39m\n\u001b[1;32m--> 105\u001b[0m fetch_page(\u001b[43msearch_url\u001b[49m)\n\u001b[0;32m    107\u001b[0m \u001b[38;5;66;03m# store img metadata in a dataframe\u001b[39;00m\n\u001b[0;32m    108\u001b[0m outputs \u001b[38;5;241m=\u001b[39m {\n\u001b[0;32m    109\u001b[0m     \u001b[38;5;124m'\u001b[39m\u001b[38;5;124mImage_IDs\u001b[39m\u001b[38;5;124m'\u001b[39m: item_ids,\n\u001b[0;32m    110\u001b[0m     \u001b[38;5;124m'\u001b[39m\u001b[38;5;124mDatetime\u001b[39m\u001b[38;5;124m'\u001b[39m: dates,\n\u001b[1;32m   (...)\u001b[0m\n\u001b[0;32m    113\u001b[0m     \u001b[38;5;124m'\u001b[39m\u001b[38;5;124mSatellite_Azimuth\u001b[39m\u001b[38;5;124m'\u001b[39m: satellite_azimuths\n\u001b[0;32m    114\u001b[0m }\n",
      "\u001b[1;31mNameError\u001b[0m: name 'search_url' is not defined"
     ]
    }
   ],
   "source": [
    "\n",
    "\n",
    "\n",
    "# Search API request object\n",
    "search_endpoint_request = {\n",
    "  \"item_types\": [\"PSScene\"],\n",
    "  \"filter\": big_filter\n",
    "}\n",
    "\n",
    "# fire off the POST request\n",
    "print('Searching...')\n",
    "result = \\\n",
    "  requests.post(\n",
    "    'https://api.planet.com/data/v1/quick-search',\n",
    "    auth=HTTPBasicAuth(os.environ['PL_API_KEY'], ''),\n",
    "    json=search_endpoint_request)\n",
    "print(result.status_code, result.reason)\n",
    "\n",
    "\n",
    "\n",
    "\n",
    "# handling for 413 'Request Entity Too Large' HTTP error\n",
    "if result.status_code == 413:\n",
    "    while True:\n",
    "        print('A 413 error is usually caused by having too many points in the geometry.')\n",
    "        print('The existing geometry has ' + str(len(geometry['features'][0]['geometry']['coordinates'][0])) + ' points.')\n",
    "        print('Reducing detail in the geometry and trying again...')\n",
    "        \n",
    "        # removes every other point on the input geometry to reduce the size of the request body\n",
    "        # this will reduce the detail of the geometry, but it will still be roughly the same shape\n",
    "        all_points = geometry['features'][0]['geometry']['coordinates'][0]\n",
    "        new_points = []\n",
    "        for i in range(0, len(all_points), 2):\n",
    "            new_points.append(all_points[i])\n",
    "\n",
    "        geometry['features'][0]['geometry']['coordinates'][0] = new_points\n",
    "\n",
    "        geometry_filter = {\n",
    "            \"type\": \"GeometryFilter\",\n",
    "            \"field_name\": \"geometry\",\n",
    "            \"config\": {\n",
    "                \"type\": \"Polygon\",\n",
    "                \"coordinates\": geometry['features'][0]['geometry']['coordinates']\n",
    "            }\n",
    "        }\n",
    "\n",
    "        big_filter = {\n",
    "        \"type\": \"AndFilter\",\n",
    "        \"config\": [geometry_filter, type_filter, cloud_cover_filter]\n",
    "        }\n",
    "        search_endpoint_request = {\n",
    "        \"item_types\": [\"PSScene\"],\n",
    "        \"filter\": big_filter\n",
    "        }\n",
    "        result = \\\n",
    "        requests.post(\n",
    "            'https://api.planet.com/data/v1/quick-search',\n",
    "            auth=HTTPBasicAuth(os.environ['PL_API_KEY'], ''),\n",
    "            json=search_endpoint_request)\n",
    "        print(result.status_code, result.reason)\n",
    "        if result.status_code != 413:\n",
    "            print(\"Request successful with \" + str(len(geometry['features'][0]['geometry']['coordinates'][0])) + \" points.\")\n",
    "            break\n",
    "        if result.status_code == 413:\n",
    "            print(\"Reduced geometry still too large. Trying again...\")\n",
    "            time.sleep(1)   ### this is a hacky way to avoid getting rate limited by the API\n",
    "            continue\n",
    "\n",
    "\n",
    "\n",
    "# stores all image ids in a list\n",
    "item_ids = []\n",
    "dates = []\n",
    "visible_percents = []\n",
    "ground_controls = []\n",
    "satellite_azimuths = []\n",
    "\n",
    "print(\"Fetching results...\")\n",
    "search_url = result.json()['_links']['_self']\n",
    "\n",
    "\n",
    "\n",
    "# adds image ids to list of results\n",
    "def handle_page(page):\n",
    "    for item in page[\"features\"]:\n",
    "        item_ids.append(item['id'])\n",
    "        dates.append(item['properties']['acquired'])\n",
    "        try:\n",
    "            visible_percents.append(item['properties']['visible_percent'])\n",
    "        except:\n",
    "            visible_percents.append(np.NaN)\n",
    "        ground_controls.append(item['properties']['ground_control'])\n",
    "        satellite_azimuths.append(item['properties']['satellite_azimuth'])\n",
    "\n",
    "\n",
    "# pagination\n",
    "def fetch_page(search_url):\n",
    "    fetch_page.counter += 1\n",
    "    print(\"Working on page \" + str(fetch_page.counter) + \" of results...\")\n",
    "    page = session.get(search_url).json()\n",
    "    handle_page(page)\n",
    "    next_url = page[\"_links\"].get(\"_next\")\n",
    "    if next_url:\n",
    "        fetch_page(next_url)\n",
    "\n",
    "# let's go!\n",
    "fetch_page.counter = 0\n",
    "fetch_page(search_url)\n",
    "\n",
    "# store img metadata in a dataframe\n",
    "outputs = {\n",
    "    'Image_IDs': item_ids,\n",
    "    'Datetime': dates,\n",
    "    'Visible_Percent': visible_percents,\n",
    "    'Ground_Control': ground_controls,\n",
    "    'Satellite_Azimuth': satellite_azimuths\n",
    "}\n",
    "print(\"Search complete.\") \n"
   ]
  },
  {
   "cell_type": "code",
   "execution_count": null,
   "id": "7fd50716-be55-416a-8a63-92d57f829d80",
   "metadata": {},
   "outputs": [],
   "source": [
    "print(\"Saving results to disk...\")\n",
    "df = pd.DataFrame(outputs)\n",
    "\n",
    "\n",
    "# some quick QOL adjustments...\n",
    "df['Date'] = df['Datetime'].str[:10]\n",
    "df['Time_UTC'] = df['Datetime'].str[11:-1]\n",
    "df = df.sort_values(by=['Datetime'])\n",
    "df = df.drop('Datetime', axis=1)\n",
    "\n",
    "\n",
    "# save outputs to csv\n",
    "df.to_csv(output_file, index=False)\n",
    "print(\"Done.\")"
   ]
  }
 ],
 "metadata": {
  "kernelspec": {
   "display_name": "Python 3 (ipykernel)",
   "language": "python",
   "name": "python3"
  },
  "language_info": {
   "codemirror_mode": {
    "name": "ipython",
    "version": 3
   },
   "file_extension": ".py",
   "mimetype": "text/x-python",
   "name": "python",
   "nbconvert_exporter": "python",
   "pygments_lexer": "ipython3",
   "version": "3.12.6"
  }
 },
 "nbformat": 4,
 "nbformat_minor": 5
}
